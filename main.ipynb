import pandas as pd
import numpy as np

import pyodbc 
cnxn = pyodbc.connect("Driver={SQL Server Native Client 11.0};""Server=WALKINGFISH;""Database=dbproject3;""Trusted_Connection=yes;")


cursor = cnxn.cursor()
cursor.execute('SELECT * FROM cvf')

for row in cursor:
    print('row = %r' % (row,))


cvf_dict = pd.read_excel("../dictionaries/QC_DD_sql.xlsx", sheet_name="cvf")
